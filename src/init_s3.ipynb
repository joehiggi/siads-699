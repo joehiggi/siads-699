{
 "cells": [
  {
   "cell_type": "markdown",
   "id": "71aa0863",
   "metadata": {},
   "source": [
    "# Initializing S3 Container\n",
    "\n",
    "### *By SIADS 699 Team #*"
   ]
  },
  {
   "cell_type": "code",
   "execution_count": null,
   "id": "e357bb79",
   "metadata": {
    "vscode": {
     "languageId": "plaintext"
    }
   },
   "outputs": [],
   "source": []
  }
 ],
 "metadata": {
  "language_info": {
   "name": "python"
  }
 },
 "nbformat": 4,
 "nbformat_minor": 5
}
