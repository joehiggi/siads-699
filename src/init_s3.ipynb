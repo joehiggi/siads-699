{
 "cells": [
  {
   "cell_type": "markdown",
   "id": "71aa0863",
   "metadata": {},
   "source": [
    "# Interacting with S3 Container"
   ]
  },
  {
   "cell_type": "markdown",
   "id": "bbdb48ae",
   "metadata": {},
   "source": [
    "### Installing AWS S3 CLI"
   ]
  },
  {
   "cell_type": "markdown",
   "id": "42f217eb",
   "metadata": {},
   "source": [
    "*Note - do not run this unless your .devcontainer is up and running, otherwise this will install to your local machine.*"
   ]
  },
  {
   "cell_type": "code",
   "execution_count": null,
   "id": "e357bb79",
   "metadata": {
    "vscode": {
     "languageId": "plaintext"
    }
   },
   "outputs": [],
   "source": [
    "!curl \"https://awscli.amazonaws.com/awscli-exe-linux-x86_64.zip\" -o \"awscliv2.zip\"\n",
    "!unzip awscliv2.zip\n",
    "!sudo ./aws/install"
   ]
  },
  {
   "cell_type": "markdown",
   "id": "07ccae1a",
   "metadata": {},
   "source": [
    "### Connecting to and Downloading File from S3 Bucket"
   ]
  },
  {
   "cell_type": "code",
   "execution_count": null,
   "id": "a54b0583",
   "metadata": {
    "vscode": {
     "languageId": "plaintext"
    }
   },
   "outputs": [],
   "source": [
    "!aws s3api get-object --bucket siads-699 --key rvl-cdip.parquet rvl-cdip.parquet"
   ]
  }
 ],
 "metadata": {
  "language_info": {
   "name": "python"
  }
 },
 "nbformat": 4,
 "nbformat_minor": 5
}
